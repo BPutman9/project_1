{
 "cells": [
  {
   "cell_type": "code",
   "execution_count": null,
   "metadata": {},
   "outputs": [],
   "source": [
    "#Importing necessary libraries\n",
    "import os\n",
    "from dotenv import load_dotenv\n",
    "import panel as pn\n",
    "pn.extension('plotly')\n",
    "import plotly.express as px\n",
    "import hvplot.pandas\n",
    "import matplotlib.pyplot as plt\n",
    "import requests\n",
    "import numpy as np\n",
    "import datetime as dt\n",
    "import pandas as pd\n",
    "from dotenv import load_dotenv\n",
    "import alpaca_trade_api as tradeapi\n",
    "import seaborn as sns\n",
    "from MCForecastTools import MCSimulation\n",
    "%matplotlib inline\n",
    "#PLACEHOLDER FOR ONE ADDITIONAL LIBRARY NOT USED IN CLASS"
   ]
  },
  {
   "cell_type": "code",
   "execution_count": 3,
   "metadata": {},
   "outputs": [
    {
     "name": "stdin",
     "output_type": "stream",
     "text": [
      "Welcome to the Group 1 Robo Advisor! Please enter your name:  Alex\n",
      "How old are you?  35\n",
      "Please enter the age at which you want to retire:  65\n"
     ]
    }
   ],
   "source": [
    "#getting initial user inputs\n",
    "name = input(\"Welcome to the Group 1 Robo Advisor! Please enter your name: \")\n",
    "age = int(input(\"How old are you? \"))\n",
    "retirement_age = int(input(\"Please enter the age at which you want to retire: \"))\n",
    "years_to_invest = retirement_age - age"
   ]
  },
  {
   "cell_type": "code",
   "execution_count": 4,
   "metadata": {},
   "outputs": [
    {
     "name": "stdout",
     "output_type": "stream",
     "text": [
      "Hello Alex!\n",
      "I see that you are 35! It's never too early to start saving for retirement! \n",
      "\n",
      "Based on your desired retirement age, you have 30 years to build up your nest egg.\n",
      "As your robo advisor, I'm here to make sure you find the investment strategy that works best for you.\n",
      "Let me ask you a few questions to figure out your tolerance for risk.\n"
     ]
    }
   ],
   "source": [
    "print(f\"Hello {name}!\")\n",
    "print(f\"I see that you are {age}! It's never too early to start saving for retirement! \\n\")\n",
    "print(f\"Based on your desired retirement age, you have {years_to_invest} years to build up your nest egg.\")\n",
    "print(\"As your robo advisor, I'm here to make sure you find the investment strategy that works best for you.\")\n",
    "print(\"Let me ask you a few questions to figure out your tolerance for risk.\")"
   ]
  },
  {
   "cell_type": "code",
   "execution_count": null,
   "metadata": {},
   "outputs": [],
   "source": [
    "# placeholder for getting more user input:\n",
    "# appetite for risk (aggressive, moderate, conservative)"
   ]
  },
  {
   "cell_type": "code",
   "execution_count": 8,
   "metadata": {},
   "outputs": [
    {
     "name": "stdout",
     "output_type": "stream",
     "text": [
      "Great, thanks so much Alex! We are almost done. Let's confirm how much money you want to initially put into your retirement portfolio.\n",
      "\n",
      "\n"
     ]
    },
    {
     "name": "stdin",
     "output_type": "stream",
     "text": [
      "How much money do you want to start off with in your portfolio?  30000\n"
     ]
    }
   ],
   "source": [
    "# more user inputs\n",
    "# 1) initial investment portfolio funding\n",
    "# 2) future contributions to investment portfolio\n",
    "print(f\"Great, thanks so much {name}! We are almost done. Let's confirm how much money you want to initially put into your retirement portfolio.\")\n",
    "print('\\n')\n",
    "init_invest = int(input(\"How much money do you want to start off with in your portfolio? \"))\n"
   ]
  },
  {
   "cell_type": "code",
   "execution_count": null,
   "metadata": {},
   "outputs": [],
   "source": []
  }
 ],
 "metadata": {
  "kernelspec": {
   "display_name": "Python [conda env:dev] *",
   "language": "python",
   "name": "conda-env-dev-py"
  },
  "language_info": {
   "codemirror_mode": {
    "name": "ipython",
    "version": 3
   },
   "file_extension": ".py",
   "mimetype": "text/x-python",
   "name": "python",
   "nbconvert_exporter": "python",
   "pygments_lexer": "ipython3",
   "version": "3.7.7"
  }
 },
 "nbformat": 4,
 "nbformat_minor": 4
}
