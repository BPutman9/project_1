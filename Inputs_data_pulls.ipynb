{
 "cells": [
  {
   "cell_type": "code",
   "execution_count": 2,
   "metadata": {},
   "outputs": [],
   "source": [
    "#Importing necessary libraries\n",
    "import os\n",
    "import pandas as pd\n",
    "from dotenv import load_dotenv\n",
    "import panel as pn\n",
    "pn.extension('plotly')\n",
    "import plotly.express as px\n",
    "import hvplot.pandas\n",
    "import matplotlib.pyplot as plt\n",
    "import requests\n",
    "import numpy as np\n",
    "import datetime as dt\n",
    "from dotenv import load_dotenv\n",
    "import alpaca_trade_api as tradeapi\n",
    "import seaborn as sns\n",
    "from MCForecastTools import MCSimulation\n",
    "%matplotlib inline\n",
    "#PLACEHOLDER FOR ONE ADDITIONAL LIBRARY NOT USED IN CLASS"
   ]
  },
  {
   "cell_type": "code",
   "execution_count": 3,
   "metadata": {},
   "outputs": [
    {
     "data": {
      "text/plain": [
       "True"
      ]
     },
     "execution_count": 3,
     "metadata": {},
     "output_type": "execute_result"
    }
   ],
   "source": [
    "# Load .env enviroment variables\n",
    "load_dotenv()"
   ]
  },
  {
   "cell_type": "code",
   "execution_count": 4,
   "metadata": {},
   "outputs": [
    {
     "name": "stdin",
     "output_type": "stream",
     "text": [
      "Welcome to the Group 1 Robo Advisor! \n",
      "We're so glad you've chosen us to help meet your investment needs. \n",
      "Let's get to know you a little better. What's your name?  Alex\n",
      "How old are you?  35\n",
      "Please enter the age at which you want to retire:  65\n"
     ]
    }
   ],
   "source": [
    "#getting initial user inputs\n",
    "name = input(\"Welcome to the Group 1 Robo Advisor! \\nWe're so glad you've chosen us to help meet your investment needs. \\nLet's get to know you a little better. What's your name? \")\n",
    "age = int(input(f\"How old are you? \"))\n",
    "retirement_age = int(input(\"Please enter the age at which you want to retire: \"))\n",
    "years_to_invest = retirement_age - age"
   ]
  },
  {
   "cell_type": "code",
   "execution_count": 5,
   "metadata": {},
   "outputs": [
    {
     "name": "stdout",
     "output_type": "stream",
     "text": [
      "Hello Alex!\n",
      "I see that you are 35! It's never too early to start saving for retirement! \n",
      "\n",
      "Based on your desired retirement age, you have 30 years to build up your nest egg.\n",
      "As your robo advisor, I'm here to make sure you find the investment strategy that works best for you.\n",
      "Let me ask you a few questions to figure out your tolerance for risk.\n"
     ]
    }
   ],
   "source": [
    "print(f\"Hello {name}!\")\n",
    "print(f\"I see that you are {age}! It's never too early to start saving for retirement! \\n\")\n",
    "print(f\"Based on your desired retirement age, you have {years_to_invest} years to build up your nest egg.\")\n",
    "print(\"As your robo advisor, I'm here to make sure you find the investment strategy that works best for you.\")\n",
    "print(\"Let me ask you a few questions to figure out your tolerance for risk.\")"
   ]
  },
  {
   "cell_type": "code",
   "execution_count": 6,
   "metadata": {},
   "outputs": [
    {
     "name": "stdin",
     "output_type": "stream",
     "text": [
      "You're on a TV game show and can choose one of the following. Which would you take? \n",
      "1) $1,000 in cash\n",
      "2) A 50% chance at winning $5,000\n",
      "3) A 25% chance at winning $10,000 \n",
      "Choose 1, 2, or 3:  2\n"
     ]
    }
   ],
   "source": [
    "# placeholder for getting more user input:\n",
    "amt_of_risk = int(input(f\"You're on a TV game show and can choose one of the following. Which would you take? \\n1) $1,000 in cash\\n2) A 50% chance at winning $5,000\\n3) A 5% chance at winning $100,000 \\nChoose 1, 2, or 3: \"))\n",
    "# appetite for risk (aggressive, moderate, conservative). could also have a \"choose for me\" option where we pick the weights depending on how close they are to retirement:\n",
    "#The old rule of thumb used to be that you should subtract your age from 100 - and that's the percentage of your portfolio that you should keep in stocks. \n",
    "#For example, if you're 30, you should keep 70% of your portfolio in stocks. If you're 70, you should keep 30% of your portfolio in stocks.\n",
    "\n",
    "#will need an if, elif statement to determine what weights to use based on the user inputs"
   ]
  },
  {
   "cell_type": "code",
   "execution_count": 9,
   "metadata": {},
   "outputs": [],
   "source": [
    "#based on the user inputs, need to create variables to create the ticker list, and weights for that ticker list.\n",
    "#example: user wants a traditional portfolio of stocks and bonds only: need BND and SPY as ticker list. \n",
    "#user wants a fully diversified portfolio: need BND, SPY, IAU, and VNQ\n",
    "if amt_of_risk == 1:\n",
    "    risk_tolerance = \"conservative\"\n",
    "    elif amt_of_risk == 2:\n",
    "        risk_tolerance = \"moderate\"\n",
    "    elif amt_of_risk = 3:\n",
    "        risk_tolerance == \"aggressive\""
   ]
  },
  {
   "cell_type": "code",
   "execution_count": 7,
   "metadata": {},
   "outputs": [
    {
     "name": "stdin",
     "output_type": "stream",
     "text": [
      "Which statement best describes you?\n",
      "1) I'm a traditional stocks and bonds investor.\n",
      "2) I like the idea of mixing in precious metals into my portfolio.\n",
      "3) I want to diversify as much as possible by including real estate.\n",
      "So which will it be? 1, 2, or 3?  1\n"
     ]
    }
   ],
   "source": [
    "# same approach but for determining stock and bonds, stocks bonds and metals, or stocks bonds metals and real estate\n",
    "portfolio_mix = int(input(f\"Which statement best describes you?\\n1) I'm a traditional stocks and bonds investor.\\n2) I like the idea of mixing in precious metals into my portfolio.\\n3) I want to diversify as much as possible by including real estate.\\nSo which will it be? 1, 2, or 3? \"))"
   ]
  },
  {
   "cell_type": "code",
   "execution_count": null,
   "metadata": {},
   "outputs": [
    {
     "name": "stdout",
     "output_type": "stream",
     "text": [
      "Great, thanks so much Alex! We are almost done. Let's confirm how much money you want to contribute to your retirement portfolio.\n",
      "\n",
      "\n"
     ]
    },
    {
     "name": "stdin",
     "output_type": "stream",
     "text": [
      "How much money do you want to start off with in your portfolio?  50000\n"
     ]
    }
   ],
   "source": [
    "# more user inputs\n",
    "# 1) initial investment portfolio funding\n",
    "# 2) future contributions to investment portfolio\n",
    "print(f\"Great, thanks so much {name}! We are almost done. Let's confirm how much money you want to contribute to your retirement portfolio.\")\n",
    "print('\\n')\n",
    "initial_investment = int(input(\"How much money do you want to start off with in your portfolio? \"))\n",
    "recurring_invest = int(input(\"How much money do you plan on contributing each year? \"))\n"
   ]
  },
  {
   "cell_type": "code",
   "execution_count": null,
   "metadata": {},
   "outputs": [],
   "source": [
    "# iteration for later: create a command that pulls up hyperlink for each ETF to show prospectus, historical performance, expense ratio, etc."
   ]
  },
  {
   "cell_type": "code",
   "execution_count": null,
   "metadata": {},
   "outputs": [],
   "source": [
    "# Set Alpaca API key and secret\n",
    "alpaca_api_key = os.getenv(\"ALPACA_API_KEY\")\n",
    "alpaca_secret_key = os.getenv(\"ALPACA_SECRET_KEY\")\n",
    "type(alpaca_api_key)\n",
    "#type(alpaca_secret_key)"
   ]
  },
  {
   "cell_type": "code",
   "execution_count": null,
   "metadata": {},
   "outputs": [],
   "source": [
    "# Create the Alpaca API object to pull in data sets\n",
    "alpaca = tradeapi.REST(\n",
    "    alpaca_api_key,\n",
    "    alpaca_secret_key,\n",
    "    api_version=\"v2\")"
   ]
  },
  {
   "cell_type": "code",
   "execution_count": null,
   "metadata": {},
   "outputs": [],
   "source": [
    "# Set start and end dates of five years back from today.\n",
    "# Sample results may vary from the solution based on the time frame chosen\n",
    "start_date = pd.Timestamp('2015-12-10', tz='America/New_York').isoformat()\n",
    "end_date = pd.Timestamp('2020-12-10', tz='America/New_York').isoformat()"
   ]
  },
  {
   "cell_type": "code",
   "execution_count": 1,
   "metadata": {},
   "outputs": [],
   "source": [
    "# Get 10 years' worth of historical data\n",
    "# Pull in Bonds, S&P500, gold ETF, and real estate ETF tickers\n",
    "tickers = [\"AGG\", \"SPY\", \"IAU\", \"VNQ\"]\n",
    "# Update tickers for client's preferred portfolio mix\n",
    "del tickers[(portfolio_mix + 1):]"
   ]
  },
  {
   "cell_type": "code",
   "execution_count": 1,
   "metadata": {},
   "outputs": [],
   "source": [
    "# Weight portfolio weights based on client's risk tolerance and preferred portfolio mix\n",
    "user_weights = []\n",
    "if risk_tolerance == 'conservative' and portfolio_mix == 1:\n",
    "    user_weights = [70, 30]\n",
    "elif risk_tolerance == 'conservative' and portfolio_mix == 2:\n",
    "    user_weights = [60, 30, 10]\n",
    "elif risk_tolerance == 'conservative' and portfolio_mix == 3:\n",
    "    user_weights = [60, 20, 15, 5]\n",
    "elif risk_tolerance == 'moderate' and portfolio_mix == 1:\n",
    "    user_weights = [50, 50]\n",
    "elif risk_tolerance == 'moderate' and portfolio_mix == 2:\n",
    "    user_weights = [35, 35, 30]\n",
    "elif risk_tolerance == 'moderate' and portfolio_mix == 3:\n",
    "    user_weights = [25, 25, 25, 25]\n",
    "elif risk_tolerance == 'aggressive' and portfolio_mix == 1:\n",
    "    user_weights = [30, 70]\n",
    "elif risk_tolerance == 'aggressive' and portfolio_mix == 2:\n",
    "    user_weights = [10, 60, 30]\n",
    "elif risk_tolerance == 'aggresive' and portfolio_mix == 3:\n",
    "    user_weights = [10, 60, 15, 15]"
   ]
  },
  {
   "cell_type": "code",
   "execution_count": 1,
   "metadata": {},
   "outputs": [
    {
     "ename": "SyntaxError",
     "evalue": "invalid syntax (<ipython-input-1-15ae05c61306>, line 3)",
     "output_type": "error",
     "traceback": [
      "\u001b[1;36m  File \u001b[1;32m\"<ipython-input-1-15ae05c61306>\"\u001b[1;36m, line \u001b[1;32m3\u001b[0m\n\u001b[1;33m    tickers = #user_selected_tickers #[\"AGG\", \"SPY\", \"IAU\", \"VNQ\"]\u001b[0m\n\u001b[1;37m              ^\u001b[0m\n\u001b[1;31mSyntaxError\u001b[0m\u001b[1;31m:\u001b[0m invalid syntax\n"
     ]
    }
   ],
   "source": [
    "# set timeframe\n",
    "timeframe = \"1D\"\n",
    "# get the data\n",
    "df_portfolio_data = alpaca.get_barset(\n",
    "    tickers,\n",
    "    timeframe,\n",
    "    start = start_date,\n",
    "    end = end_date\n",
    ").df\n",
    "# Display sample data\n",
    "df_portfolio_data.tail()"
   ]
  },
  {
   "cell_type": "code",
   "execution_count": null,
   "metadata": {},
   "outputs": [],
   "source": [
    "#project requirement. have to do data cleaning. check for null values\n",
    "df_portfolio_data.isnull().mean()*100"
   ]
  },
  {
   "cell_type": "code",
   "execution_count": 11,
   "metadata": {},
   "outputs": [
    {
     "data": {
      "text/plain": [
       "AGG  open      0.0\n",
       "     high      0.0\n",
       "     low       0.0\n",
       "     close     0.0\n",
       "     volume    0.0\n",
       "IAU  open      0.0\n",
       "     high      0.0\n",
       "     low       0.0\n",
       "     close     0.0\n",
       "     volume    0.0\n",
       "SPY  open      0.0\n",
       "     high      0.0\n",
       "     low       0.0\n",
       "     close     0.0\n",
       "     volume    0.0\n",
       "VNQ  open      0.0\n",
       "     high      0.0\n",
       "     low       0.0\n",
       "     close     0.0\n",
       "     volume    0.0\n",
       "dtype: float64"
      ]
     },
     "execution_count": 11,
     "metadata": {},
     "output_type": "execute_result"
    }
   ],
   "source": [
    "#drop nulls\n",
    "df_portfolio_data = df_portfolio_data.dropna()\n",
    "df_portfolio_data\n",
    "df_portfolio_data.isnull().mean()*100"
   ]
  },
  {
   "cell_type": "code",
   "execution_count": 1,
   "metadata": {},
   "outputs": [
    {
     "ename": "NameError",
     "evalue": "name 'MCSimulation' is not defined",
     "output_type": "error",
     "traceback": [
      "\u001b[1;31m---------------------------------------------------------------------------\u001b[0m",
      "\u001b[1;31mNameError\u001b[0m                                 Traceback (most recent call last)",
      "\u001b[1;32m<ipython-input-1-7bbebdb57665>\u001b[0m in \u001b[0;36m<module>\u001b[1;34m\u001b[0m\n\u001b[0;32m      1\u001b[0m \u001b[1;31m# Configuring a Monte Carlo simulation to forecast x # of years based on client's years to invest. cumulative returns\u001b[0m\u001b[1;33m\u001b[0m\u001b[1;33m\u001b[0m\u001b[1;33m\u001b[0m\u001b[0m\n\u001b[1;32m----> 2\u001b[1;33m MC_stock_data = MCSimulation(\n\u001b[0m\u001b[0;32m      3\u001b[0m     \u001b[0mportfolio_data\u001b[0m \u001b[1;33m=\u001b[0m \u001b[0mdf_stock_data\u001b[0m\u001b[1;33m,\u001b[0m\u001b[1;33m\u001b[0m\u001b[1;33m\u001b[0m\u001b[0m\n\u001b[0;32m      4\u001b[0m     \u001b[0mweights\u001b[0m \u001b[1;33m=\u001b[0m \u001b[1;33m[\u001b[0m\u001b[1;36m0.4\u001b[0m\u001b[1;33m,\u001b[0m\u001b[1;36m0.6\u001b[0m\u001b[1;33m]\u001b[0m\u001b[1;33m,\u001b[0m\u001b[1;33m\u001b[0m\u001b[1;33m\u001b[0m\u001b[0m\n\u001b[0;32m      5\u001b[0m     \u001b[0mnum_simulation\u001b[0m \u001b[1;33m=\u001b[0m \u001b[1;36m500\u001b[0m\u001b[1;33m,\u001b[0m\u001b[1;33m\u001b[0m\u001b[1;33m\u001b[0m\u001b[0m\n",
      "\u001b[1;31mNameError\u001b[0m: name 'MCSimulation' is not defined"
     ]
    }
   ],
   "source": [
    "# Configuring a Monte Carlo simulation to forecast x # of years based on client's years to invest. cumulative returns\n",
    "MC_simulation_data = MCSimulation(\n",
    "    portfolio_data = df_stock_data,\n",
    "    weights = user_weights,\n",
    "    num_simulation = 500,\n",
    "    num_trading_days = 252*30)"
   ]
  },
  {
   "cell_type": "code",
   "execution_count": null,
   "metadata": {},
   "outputs": [],
   "source": [
    "# Print the simulation input data to confirm we have daily returns\n",
    "MC_simulation_data.portfolio_data.head()"
   ]
  },
  {
   "cell_type": "code",
   "execution_count": null,
   "metadata": {},
   "outputs": [],
   "source": [
    "# Run the Monte Carlo simulation to forecast X # of years cumulative returns\n",
    "MC_simulation_data.calc_cumulative_return()"
   ]
  },
  {
   "cell_type": "code",
   "execution_count": null,
   "metadata": {},
   "outputs": [],
   "source": [
    "# Plot simulation outcomes\n",
    "line_plot= MC_simulation_data.plot_simulation()"
   ]
  },
  {
   "cell_type": "code",
   "execution_count": null,
   "metadata": {},
   "outputs": [],
   "source": [
    "# Plot probability distribution and confidence intervals\n",
    "dist_plot=MC_stock_data.plot_distribution()"
   ]
  },
  {
   "cell_type": "code",
   "execution_count": null,
   "metadata": {},
   "outputs": [],
   "source": [
    "# Fetch summary statistics from the Monte Carlo simulation results\n",
    "tbl= MC_simulation_data.summarize_cumulative_return()\n",
    "\n",
    "# Print summary statistics\n",
    "print(tbl)"
   ]
  },
  {
   "cell_type": "code",
   "execution_count": null,
   "metadata": {},
   "outputs": [],
   "source": [
    "# Use the lower and upper `95%` confidence intervals to calculate the range of the possible outcomes of our initial_investment\n",
    "# need to figure out how to include any annual contributions to the portfolio as well\n",
    "ci_lower = round(tbl[8]*initial_investment,2)\n",
    "ci_upper = round(tbl[9]*initial_investment,2)\n",
    "\n",
    "# Print results\n",
    "print(f\"There is a 95% chance that an initial investment of ${initial_investment} in the portfolio\"\n",
    "      f\" over the next {years_to_invest} years will end within in the range of\"\n",
    "      f\" ${ci_lower} and ${ci_upper}\")"
   ]
  }
 ],
 "metadata": {
  "kernelspec": {
   "display_name": "Python 3",
   "language": "python",
   "name": "python3"
  },
  "language_info": {
   "codemirror_mode": {
    "name": "ipython",
    "version": 3
   },
   "file_extension": ".py",
   "mimetype": "text/x-python",
   "name": "python",
   "nbconvert_exporter": "python",
   "pygments_lexer": "ipython3",
   "version": "3.8.3"
  }
 },
 "nbformat": 4,
 "nbformat_minor": 4
}
